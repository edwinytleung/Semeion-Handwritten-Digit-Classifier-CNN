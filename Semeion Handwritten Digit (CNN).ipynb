{
 "cells": [
  {
   "cell_type": "code",
   "execution_count": 1,
   "metadata": {},
   "outputs": [
    {
     "name": "stderr",
     "output_type": "stream",
     "text": [
      "C:\\Users\\edwin\\Anaconda3\\lib\\site-packages\\h5py\\__init__.py:36: FutureWarning: Conversion of the second argument of issubdtype from `float` to `np.floating` is deprecated. In future, it will be treated as `np.float64 == np.dtype(float).type`.\n",
      "  from ._conv import register_converters as _register_converters\n",
      "Using TensorFlow backend.\n"
     ]
    }
   ],
   "source": [
    "import pandas as pd\n",
    "import numpy as np\n",
    "import matplotlib.pyplot as plt \n",
    "import keras\n",
    "from keras.models import Sequential\n",
    "from keras.layers import Conv2D, Flatten, Dense, Dropout, MaxPooling2D\n",
    "from keras.models import load_model\n",
    "from sklearn.model_selection import train_test_split\n",
    "from sklearn.model_selection import StratifiedKFold\n",
    "import time\n",
    "import random \n",
    "import gc"
   ]
  },
  {
   "cell_type": "code",
   "execution_count": 2,
   "metadata": {},
   "outputs": [
    {
     "data": {
      "text/plain": [
       "7"
      ]
     },
     "execution_count": 2,
     "metadata": {},
     "output_type": "execute_result"
    }
   ],
   "source": [
    "gc.collect()"
   ]
  },
  {
   "cell_type": "markdown",
   "metadata": {},
   "source": [
    "## Data preprocessing"
   ]
  },
  {
   "cell_type": "code",
   "execution_count": 3,
   "metadata": {},
   "outputs": [],
   "source": [
    "df = pd.read_csv(\"https://archive.ics.uci.edu/ml/machine-learning-databases/semeion/semeion.data\", header = None, sep = \" \")"
   ]
  },
  {
   "cell_type": "code",
   "execution_count": 4,
   "metadata": {},
   "outputs": [
    {
     "data": {
      "text/html": [
       "<div>\n",
       "<style scoped>\n",
       "    .dataframe tbody tr th:only-of-type {\n",
       "        vertical-align: middle;\n",
       "    }\n",
       "\n",
       "    .dataframe tbody tr th {\n",
       "        vertical-align: top;\n",
       "    }\n",
       "\n",
       "    .dataframe thead th {\n",
       "        text-align: right;\n",
       "    }\n",
       "</style>\n",
       "<table border=\"1\" class=\"dataframe\">\n",
       "  <thead>\n",
       "    <tr style=\"text-align: right;\">\n",
       "      <th></th>\n",
       "      <th>0</th>\n",
       "      <th>1</th>\n",
       "      <th>2</th>\n",
       "      <th>3</th>\n",
       "      <th>4</th>\n",
       "      <th>5</th>\n",
       "      <th>6</th>\n",
       "      <th>7</th>\n",
       "      <th>8</th>\n",
       "      <th>9</th>\n",
       "      <th>...</th>\n",
       "      <th>257</th>\n",
       "      <th>258</th>\n",
       "      <th>259</th>\n",
       "      <th>260</th>\n",
       "      <th>261</th>\n",
       "      <th>262</th>\n",
       "      <th>263</th>\n",
       "      <th>264</th>\n",
       "      <th>265</th>\n",
       "      <th>266</th>\n",
       "    </tr>\n",
       "  </thead>\n",
       "  <tbody>\n",
       "    <tr>\n",
       "      <th>0</th>\n",
       "      <td>0.0</td>\n",
       "      <td>0.0</td>\n",
       "      <td>0.0</td>\n",
       "      <td>0.0</td>\n",
       "      <td>0.0</td>\n",
       "      <td>0.0</td>\n",
       "      <td>1.0</td>\n",
       "      <td>1.0</td>\n",
       "      <td>1.0</td>\n",
       "      <td>1.0</td>\n",
       "      <td>...</td>\n",
       "      <td>0</td>\n",
       "      <td>0</td>\n",
       "      <td>0</td>\n",
       "      <td>0</td>\n",
       "      <td>0</td>\n",
       "      <td>0</td>\n",
       "      <td>0</td>\n",
       "      <td>0</td>\n",
       "      <td>0</td>\n",
       "      <td>NaN</td>\n",
       "    </tr>\n",
       "    <tr>\n",
       "      <th>1</th>\n",
       "      <td>0.0</td>\n",
       "      <td>0.0</td>\n",
       "      <td>0.0</td>\n",
       "      <td>0.0</td>\n",
       "      <td>0.0</td>\n",
       "      <td>1.0</td>\n",
       "      <td>1.0</td>\n",
       "      <td>1.0</td>\n",
       "      <td>1.0</td>\n",
       "      <td>1.0</td>\n",
       "      <td>...</td>\n",
       "      <td>0</td>\n",
       "      <td>0</td>\n",
       "      <td>0</td>\n",
       "      <td>0</td>\n",
       "      <td>0</td>\n",
       "      <td>0</td>\n",
       "      <td>0</td>\n",
       "      <td>0</td>\n",
       "      <td>0</td>\n",
       "      <td>NaN</td>\n",
       "    </tr>\n",
       "    <tr>\n",
       "      <th>2</th>\n",
       "      <td>0.0</td>\n",
       "      <td>0.0</td>\n",
       "      <td>0.0</td>\n",
       "      <td>0.0</td>\n",
       "      <td>0.0</td>\n",
       "      <td>0.0</td>\n",
       "      <td>0.0</td>\n",
       "      <td>0.0</td>\n",
       "      <td>0.0</td>\n",
       "      <td>1.0</td>\n",
       "      <td>...</td>\n",
       "      <td>0</td>\n",
       "      <td>0</td>\n",
       "      <td>0</td>\n",
       "      <td>0</td>\n",
       "      <td>0</td>\n",
       "      <td>0</td>\n",
       "      <td>0</td>\n",
       "      <td>0</td>\n",
       "      <td>0</td>\n",
       "      <td>NaN</td>\n",
       "    </tr>\n",
       "    <tr>\n",
       "      <th>3</th>\n",
       "      <td>0.0</td>\n",
       "      <td>0.0</td>\n",
       "      <td>0.0</td>\n",
       "      <td>0.0</td>\n",
       "      <td>0.0</td>\n",
       "      <td>0.0</td>\n",
       "      <td>1.0</td>\n",
       "      <td>1.0</td>\n",
       "      <td>1.0</td>\n",
       "      <td>1.0</td>\n",
       "      <td>...</td>\n",
       "      <td>0</td>\n",
       "      <td>0</td>\n",
       "      <td>0</td>\n",
       "      <td>0</td>\n",
       "      <td>0</td>\n",
       "      <td>0</td>\n",
       "      <td>0</td>\n",
       "      <td>0</td>\n",
       "      <td>0</td>\n",
       "      <td>NaN</td>\n",
       "    </tr>\n",
       "    <tr>\n",
       "      <th>4</th>\n",
       "      <td>0.0</td>\n",
       "      <td>0.0</td>\n",
       "      <td>0.0</td>\n",
       "      <td>0.0</td>\n",
       "      <td>0.0</td>\n",
       "      <td>0.0</td>\n",
       "      <td>0.0</td>\n",
       "      <td>0.0</td>\n",
       "      <td>0.0</td>\n",
       "      <td>1.0</td>\n",
       "      <td>...</td>\n",
       "      <td>0</td>\n",
       "      <td>0</td>\n",
       "      <td>0</td>\n",
       "      <td>0</td>\n",
       "      <td>0</td>\n",
       "      <td>0</td>\n",
       "      <td>0</td>\n",
       "      <td>0</td>\n",
       "      <td>0</td>\n",
       "      <td>NaN</td>\n",
       "    </tr>\n",
       "  </tbody>\n",
       "</table>\n",
       "<p>5 rows × 267 columns</p>\n",
       "</div>"
      ],
      "text/plain": [
       "   0    1    2    3    4    5    6    7    8    9   ...   257  258  259  260  \\\n",
       "0  0.0  0.0  0.0  0.0  0.0  0.0  1.0  1.0  1.0  1.0 ...     0    0    0    0   \n",
       "1  0.0  0.0  0.0  0.0  0.0  1.0  1.0  1.0  1.0  1.0 ...     0    0    0    0   \n",
       "2  0.0  0.0  0.0  0.0  0.0  0.0  0.0  0.0  0.0  1.0 ...     0    0    0    0   \n",
       "3  0.0  0.0  0.0  0.0  0.0  0.0  1.0  1.0  1.0  1.0 ...     0    0    0    0   \n",
       "4  0.0  0.0  0.0  0.0  0.0  0.0  0.0  0.0  0.0  1.0 ...     0    0    0    0   \n",
       "\n",
       "   261  262  263  264  265  266  \n",
       "0    0    0    0    0    0  NaN  \n",
       "1    0    0    0    0    0  NaN  \n",
       "2    0    0    0    0    0  NaN  \n",
       "3    0    0    0    0    0  NaN  \n",
       "4    0    0    0    0    0  NaN  \n",
       "\n",
       "[5 rows x 267 columns]"
      ]
     },
     "execution_count": 4,
     "metadata": {},
     "output_type": "execute_result"
    }
   ],
   "source": [
    "df.head(5)"
   ]
  },
  {
   "cell_type": "code",
   "execution_count": 5,
   "metadata": {},
   "outputs": [
    {
     "data": {
      "text/plain": [
       "numpy.ndarray"
      ]
     },
     "execution_count": 5,
     "metadata": {},
     "output_type": "execute_result"
    }
   ],
   "source": [
    "#change the dataframe to numpy array\n",
    "data = df.values \n",
    "type(data)"
   ]
  },
  {
   "cell_type": "code",
   "execution_count": 6,
   "metadata": {},
   "outputs": [
    {
     "data": {
      "text/plain": [
       "(1593, 267)"
      ]
     },
     "execution_count": 6,
     "metadata": {},
     "output_type": "execute_result"
    }
   ],
   "source": [
    "data.shape"
   ]
  },
  {
   "cell_type": "code",
   "execution_count": 7,
   "metadata": {},
   "outputs": [
    {
     "data": {
      "image/png": "[encoded data removed]",
      "text/plain": [
       "<matplotlib.figure.Figure at 0x1ff65585a20>"
      ]
     },
     "metadata": {},
     "output_type": "display_data"
    }
   ],
   "source": [
    "# showing one record on a graph\n",
    "check = data[123][0:256].reshape(16,16) # reshape to 16 x 16 dimension\n",
    "plt.imshow(check,cmap=\"gray\")\n",
    "plt.show()"
   ]
  },
  {
   "cell_type": "code",
   "execution_count": 8,
   "metadata": {},
   "outputs": [
    {
     "data": {
      "text/plain": [
       "(1593, 10)"
      ]
     },
     "execution_count": 8,
     "metadata": {},
     "output_type": "execute_result"
    }
   ],
   "source": [
    "# assigning the one hot encoding values \n",
    "y = data[:,256:266]\n",
    "y.shape"
   ]
  },
  {
   "cell_type": "code",
   "execution_count": 9,
   "metadata": {},
   "outputs": [
    {
     "data": {
      "text/plain": [
       "array([1., 0., 0., 0., 0., 0., 0., 0., 0., 0.])"
      ]
     },
     "execution_count": 9,
     "metadata": {},
     "output_type": "execute_result"
    }
   ],
   "source": [
    "y[0]"
   ]
  },
  {
   "cell_type": "code",
   "execution_count": 10,
   "metadata": {},
   "outputs": [
    {
     "data": {
      "text/plain": [
       "(1593, 256)"
      ]
     },
     "execution_count": 10,
     "metadata": {},
     "output_type": "execute_result"
    }
   ],
   "source": [
    "X = data[:,0:256]\n",
    "X.shape"
   ]
  },
  {
   "cell_type": "code",
   "execution_count": 11,
   "metadata": {},
   "outputs": [],
   "source": [
    "# shuffle the X and y since for keras validation_split, it is not shuffled\n",
    "\n",
    "ind_list = [i for i in range(len(X))]\n",
    "random.seed(4)\n",
    "random.shuffle(ind_list)\n",
    "\n",
    "X = X[ind_list,:]\n",
    "y = y[ind_list,:]"
   ]
  },
  {
   "cell_type": "markdown",
   "metadata": {},
   "source": [
    "## Initializing Convolutional Neural Network (CNN)"
   ]
  },
  {
   "cell_type": "code",
   "execution_count": 12,
   "metadata": {},
   "outputs": [],
   "source": [
    "# for calculating the model training time\n",
    "start_time = time.time()"
   ]
  },
  {
   "cell_type": "code",
   "execution_count": 13,
   "metadata": {},
   "outputs": [],
   "source": [
    "batch_size = 50\n",
    "num_classes = 10\n",
    "epochs = 30\n",
    "\n",
    "# input image dimensions\n",
    "img_rows, img_cols = 16,16\n",
    "input_shape = (img_rows, img_cols, 1)\n",
    "\n",
    "model = Sequential()\n",
    "model.add(Conv2D(32, kernel_size=(3, 3),\n",
    "                 activation='relu',\n",
    "                 input_shape=input_shape))\n",
    "model.add(Conv2D(64, (3, 3), activation='relu'))\n",
    "model.add(MaxPooling2D(pool_size=(2, 2)))\n",
    "model.add(Dropout(0.25))\n",
    "model.add(Flatten())\n",
    "model.add(Dense(128, activation='relu'))\n",
    "model.add(Dropout(0.5))\n",
    "model.add(Dense(num_classes, activation='softmax'))"
   ]
  },
  {
   "cell_type": "code",
   "execution_count": 14,
   "metadata": {},
   "outputs": [],
   "source": [
    "model.compile(loss=keras.losses.categorical_crossentropy,\n",
    "              optimizer=keras.optimizers.Adadelta(),\n",
    "              metrics=['accuracy'])"
   ]
  },
  {
   "cell_type": "code",
   "execution_count": 15,
   "metadata": {},
   "outputs": [
    {
     "name": "stdout",
     "output_type": "stream",
     "text": [
      "_________________________________________________________________\n",
      "Layer (type)                 Output Shape              Param #   \n",
      "=================================================================\n",
      "conv2d_1 (Conv2D)            (None, 14, 14, 32)        320       \n",
      "_________________________________________________________________\n",
      "conv2d_2 (Conv2D)            (None, 12, 12, 64)        18496     \n",
      "_________________________________________________________________\n",
      "max_pooling2d_1 (MaxPooling2 (None, 6, 6, 64)          0         \n",
      "_________________________________________________________________\n",
      "dropout_1 (Dropout)          (None, 6, 6, 64)          0         \n",
      "_________________________________________________________________\n",
      "flatten_1 (Flatten)          (None, 2304)              0         \n",
      "_________________________________________________________________\n",
      "dense_1 (Dense)              (None, 128)               295040    \n",
      "_________________________________________________________________\n",
      "dropout_2 (Dropout)          (None, 128)               0         \n",
      "_________________________________________________________________\n",
      "dense_2 (Dense)              (None, 10)                1290      \n",
      "=================================================================\n",
      "Total params: 315,146\n",
      "Trainable params: 315,146\n",
      "Non-trainable params: 0\n",
      "_________________________________________________________________\n"
     ]
    }
   ],
   "source": [
    "model.summary()"
   ]
  },
  {
   "cell_type": "code",
   "execution_count": 16,
   "metadata": {},
   "outputs": [],
   "source": [
    "# model can only take inputs with input_shape = (16, 16, 1)\n",
    "X = X.reshape(1593,16,16,1)"
   ]
  },
  {
   "cell_type": "code",
   "execution_count": 17,
   "metadata": {},
   "outputs": [
    {
     "name": "stdout",
     "output_type": "stream",
     "text": [
      "(1115, 16, 16, 1) (1115, 10)\n",
      "(478, 16, 16, 1) (478, 10)\n"
     ]
    }
   ],
   "source": [
    "# train test split using 40% test size\n",
    "X_train, X_test, y_train, y_test = train_test_split(X, y, test_size=0.30) \n",
    "print (X_train.shape, y_train.shape)\n",
    "print (X_test.shape, y_test.shape)"
   ]
  },
  {
   "cell_type": "code",
   "execution_count": 18,
   "metadata": {},
   "outputs": [
    {
     "name": "stdout",
     "output_type": "stream",
     "text": [
      "Train on 780 samples, validate on 335 samples\n",
      "Epoch 1/30\n",
      "780/780 [==============================] - 3s 4ms/step - loss: 1.9518 - acc: 0.3026 - val_loss: 1.3184 - val_acc: 0.6060\n",
      "Epoch 2/30\n",
      "780/780 [==============================] - 0s 265us/step - loss: 1.2605 - acc: 0.5962 - val_loss: 0.7045 - val_acc: 0.8209\n",
      "Epoch 3/30\n",
      "780/780 [==============================] - 0s 229us/step - loss: 0.8367 - acc: 0.7192 - val_loss: 0.7362 - val_acc: 0.7493\n",
      "Epoch 4/30\n",
      "780/780 [==============================] - 0s 225us/step - loss: 0.5804 - acc: 0.8179 - val_loss: 0.3374 - val_acc: 0.8896\n",
      "Epoch 5/30\n",
      "780/780 [==============================] - 0s 230us/step - loss: 0.4590 - acc: 0.8564 - val_loss: 0.2454 - val_acc: 0.9194\n",
      "Epoch 6/30\n",
      "780/780 [==============================] - 0s 222us/step - loss: 0.3374 - acc: 0.8808 - val_loss: 0.3388 - val_acc: 0.9045\n",
      "Epoch 7/30\n",
      "780/780 [==============================] - 0s 234us/step - loss: 0.2757 - acc: 0.9115 - val_loss: 0.1964 - val_acc: 0.9313\n",
      "Epoch 8/30\n",
      "780/780 [==============================] - 0s 238us/step - loss: 0.2050 - acc: 0.9346 - val_loss: 0.1825 - val_acc: 0.9433\n",
      "Epoch 9/30\n",
      "780/780 [==============================] - 0s 260us/step - loss: 0.1946 - acc: 0.9397 - val_loss: 0.1410 - val_acc: 0.9522\n",
      "Epoch 10/30\n",
      "780/780 [==============================] - 0s 237us/step - loss: 0.1651 - acc: 0.9487 - val_loss: 0.1747 - val_acc: 0.9493\n",
      "Epoch 11/30\n",
      "780/780 [==============================] - 0s 224us/step - loss: 0.1196 - acc: 0.9679 - val_loss: 0.1276 - val_acc: 0.9612\n",
      "Epoch 12/30\n",
      "780/780 [==============================] - 0s 229us/step - loss: 0.1009 - acc: 0.9654 - val_loss: 0.1745 - val_acc: 0.9463\n",
      "Epoch 13/30\n",
      "780/780 [==============================] - 0s 231us/step - loss: 0.1124 - acc: 0.9641 - val_loss: 0.1995 - val_acc: 0.9463\n",
      "Epoch 14/30\n",
      "780/780 [==============================] - 0s 219us/step - loss: 0.0947 - acc: 0.9718 - val_loss: 0.1473 - val_acc: 0.9463\n",
      "Epoch 15/30\n",
      "780/780 [==============================] - 0s 233us/step - loss: 0.0690 - acc: 0.9808 - val_loss: 0.1344 - val_acc: 0.9552\n",
      "Epoch 16/30\n",
      "780/780 [==============================] - 0s 233us/step - loss: 0.0777 - acc: 0.9769 - val_loss: 0.1351 - val_acc: 0.9522\n",
      "Epoch 17/30\n",
      "780/780 [==============================] - 0s 238us/step - loss: 0.0542 - acc: 0.9859 - val_loss: 0.1522 - val_acc: 0.9493\n",
      "Epoch 18/30\n",
      "780/780 [==============================] - 0s 242us/step - loss: 0.0663 - acc: 0.9782 - val_loss: 0.1289 - val_acc: 0.9582\n",
      "Epoch 19/30\n",
      "780/780 [==============================] - 0s 243us/step - loss: 0.0493 - acc: 0.9859 - val_loss: 0.1302 - val_acc: 0.9642\n",
      "Epoch 20/30\n",
      "780/780 [==============================] - 0s 229us/step - loss: 0.0444 - acc: 0.9859 - val_loss: 0.1345 - val_acc: 0.9522\n",
      "Epoch 21/30\n",
      "780/780 [==============================] - 0s 216us/step - loss: 0.0574 - acc: 0.9769 - val_loss: 0.1266 - val_acc: 0.9672\n",
      "Epoch 22/30\n",
      "780/780 [==============================] - 0s 220us/step - loss: 0.0526 - acc: 0.9808 - val_loss: 0.1177 - val_acc: 0.9731\n",
      "Epoch 23/30\n",
      "780/780 [==============================] - 0s 229us/step - loss: 0.0470 - acc: 0.9833 - val_loss: 0.1205 - val_acc: 0.9642\n",
      "Epoch 24/30\n",
      "780/780 [==============================] - 0s 235us/step - loss: 0.0241 - acc: 0.9949 - val_loss: 0.1206 - val_acc: 0.9642\n",
      "Epoch 25/30\n",
      "780/780 [==============================] - 0s 222us/step - loss: 0.0321 - acc: 0.9897 - val_loss: 0.1353 - val_acc: 0.9582\n",
      "Epoch 26/30\n",
      "780/780 [==============================] - 0s 234us/step - loss: 0.0407 - acc: 0.9846 - val_loss: 0.1410 - val_acc: 0.9522\n",
      "Epoch 27/30\n",
      "780/780 [==============================] - 0s 231us/step - loss: 0.0471 - acc: 0.9808 - val_loss: 0.1571 - val_acc: 0.9522\n",
      "Epoch 28/30\n",
      "780/780 [==============================] - 0s 231us/step - loss: 0.0314 - acc: 0.9910 - val_loss: 0.1556 - val_acc: 0.9582\n",
      "Epoch 29/30\n",
      "780/780 [==============================] - 0s 235us/step - loss: 0.0399 - acc: 0.9846 - val_loss: 0.1333 - val_acc: 0.9642\n",
      "Epoch 30/30\n",
      "780/780 [==============================] - 0s 215us/step - loss: 0.0334 - acc: 0.9885 - val_loss: 0.1275 - val_acc: 0.9642\n"
     ]
    }
   ],
   "source": [
    "# using validation set 40% of the train set\n",
    "history = model.fit(X_train, y_train,\n",
    "          batch_size=batch_size,\n",
    "          epochs=epochs,\n",
    "          verbose=1,\n",
    "          validation_split=0.3\n",
    "          )\n",
    "# validation_data=(X_test, y_test)"
   ]
  },
  {
   "cell_type": "code",
   "execution_count": 19,
   "metadata": {},
   "outputs": [
    {
     "name": "stdout",
     "output_type": "stream",
     "text": [
      "478/478 [==============================] - 0s 177us/step\n",
      "Test loss: 0.16651200354255144\n",
      "Test accuracy: 0.9560669456066946\n"
     ]
    }
   ],
   "source": [
    "# evaluate model using test set\n",
    "score = model.evaluate(X_test, y_test, verbose=1)\n",
    "print('Test loss:', score[0])\n",
    "print('Test accuracy:', score[1])"
   ]
  },
  {
   "cell_type": "code",
   "execution_count": 20,
   "metadata": {},
   "outputs": [
    {
     "name": "stdout",
     "output_type": "stream",
     "text": [
      "time taken:  9.153517246246338\n"
     ]
    }
   ],
   "source": [
    "elapsed_time = time.time() - start_time\n",
    "print(\"time taken: \", elapsed_time)"
   ]
  },
  {
   "cell_type": "code",
   "execution_count": 21,
   "metadata": {},
   "outputs": [],
   "source": [
    "# save model weightings\n",
    "model.save_weights('semeion_weight.h5') # use model.load_weights to restore\n",
    "\n",
    "# save model\n",
    "model.save('semeion_model.h5') "
   ]
  },
  {
   "cell_type": "code",
   "execution_count": 22,
   "metadata": {},
   "outputs": [],
   "source": [
    "# predict y value using test set\n",
    "y_pred = model.predict(X_test)"
   ]
  },
  {
   "cell_type": "markdown",
   "metadata": {},
   "source": [
    "## Demonstrate Manual k-Fold Cross Validation"
   ]
  },
  {
   "cell_type": "code",
   "execution_count": 23,
   "metadata": {},
   "outputs": [],
   "source": [
    "# converting the one hot encoded values back to original labels for StratifiedKFold function \n",
    "\n",
    "y_value = np.array([0,1,2,3,4,5,6,7,8,9])\n",
    "Y = [y_value[np.argmax(item)] for item in y]\n",
    "Y = np.asarray(Y)"
   ]
  },
  {
   "cell_type": "code",
   "execution_count": 24,
   "metadata": {},
   "outputs": [
    {
     "name": "stdout",
     "output_type": "stream",
     "text": [
      "10\n"
     ]
    }
   ],
   "source": [
    "num_classes = len(np.unique(Y))\n",
    "print(num_classes)"
   ]
  },
  {
   "cell_type": "code",
   "execution_count": 25,
   "metadata": {},
   "outputs": [
    {
     "name": "stdout",
     "output_type": "stream",
     "text": [
      "acc: 97.56%\n",
      "acc: 98.76%\n",
      "acc: 96.25%\n",
      "acc: 98.12%\n",
      "acc: 96.88%\n",
      "acc: 96.86%\n",
      "acc: 98.11%\n",
      "acc: 97.48%\n",
      "acc: 96.18%\n",
      "acc: 95.45%\n",
      "97.17% (+/- 0.98%)\n"
     ]
    }
   ],
   "source": [
    "# This part takes some time to do the 10-fold cross validation\n",
    "# fix random seed for reproducibility\n",
    "seed = 7\n",
    "\n",
    "# define 10-fold cross validation test harness\n",
    "kfold = StratifiedKFold(n_splits=10, shuffle=True, random_state=seed)\n",
    "cvscores = []\n",
    "for train, test in kfold.split(X, Y):\n",
    "    # create model\n",
    "    model = Sequential()\n",
    "    model.add(Conv2D(32, kernel_size=(3, 3),\n",
    "                 activation='relu',\n",
    "                 input_shape=input_shape))\n",
    "    model.add(Conv2D(64, (3, 3), activation='relu'))\n",
    "    model.add(MaxPooling2D(pool_size=(2, 2)))\n",
    "    model.add(Dropout(0.25))\n",
    "    model.add(Flatten())\n",
    "    model.add(Dense(128, activation='relu'))\n",
    "    model.add(Dropout(0.5))\n",
    "    model.add(Dense(num_classes, activation='softmax'))\n",
    "    \n",
    "    # Compile model\n",
    "    model.compile(loss=keras.losses.categorical_crossentropy,\n",
    "              optimizer=keras.optimizers.Adadelta(),\n",
    "              metrics=['accuracy'])\n",
    "    \n",
    "    # Fit the model\n",
    "    model.fit(X[train], keras.utils.to_categorical(Y[train], num_classes),\n",
    "          batch_size=batch_size,\n",
    "          epochs=epochs,\n",
    "          verbose=0\n",
    "          )\n",
    "\n",
    "    # evaluate the model\n",
    "    scores = model.evaluate(X[test], keras.utils.to_categorical(Y[test], num_classes), verbose=0)\n",
    "    print(\"%s: %.2f%%\" % (model.metrics_names[1], scores[1]*100))\n",
    "    cvscores.append(scores[1] * 100)\n",
    "    \n",
    "print(\"%.2f%% (+/- %.2f%%)\" % (np.mean(cvscores), np.std(cvscores)))"
   ]
  },
  {
   "cell_type": "markdown",
   "metadata": {},
   "source": [
    "### The performance is printed for each model and it is stored. The average and standard deviation of the model performance is then printed at the end of the run to provide a robust estimate of model accuracy.\n",
    "<br>"
   ]
  },
  {
   "cell_type": "markdown",
   "metadata": {},
   "source": [
    "## Showing 9 randomly picked records from test set \n",
    "### With real labels, predicted labels and probabilities"
   ]
  },
  {
   "cell_type": "code",
   "execution_count": 26,
   "metadata": {},
   "outputs": [
    {
     "data": {
      "image/png": "[encoded data removed]",
      "text/plain": [
       "<matplotlib.figure.Figure at 0x2003182cb70>"
      ]
     },
     "metadata": {},
     "output_type": "display_data"
    }
   ],
   "source": [
    "row = 3\n",
    "col = 3\n",
    "\n",
    "fig, axes = plt.subplots(row,col,figsize=(15,15))\n",
    "\n",
    "for i in range(0,row):\n",
    "    for j in range(0,col):\n",
    "        x = random.randint(0,len(X_test))\n",
    "        axes[i, j].imshow(X_test[x].reshape(16,16),cmap=\"gray\")\n",
    "        axes[i, j].set_title('Label: %d Pred: %d Prob: %f'\n",
    "        %(y_value[np.argmax(y_test[x])],y_value[np.argmax(y_pred[x])],y_pred[x][np.argmax(y_pred[x])]))\n",
    "        \n",
    "plt.show()        "
   ]
  },
  {
   "cell_type": "markdown",
   "metadata": {},
   "source": [
    "## Graphs of Model Accuracy and Model Loss (From each epoch)"
   ]
  },
  {
   "cell_type": "code",
   "execution_count": 27,
   "metadata": {},
   "outputs": [
    {
     "data": {
      "image/png": "[encoded data removed]",
      "text/plain": [
       "<matplotlib.figure.Figure at 0x2003182c978>"
      ]
     },
     "metadata": {},
     "output_type": "display_data"
    },
    {
     "data": {
      "image/png": "[encoded data removed]",
      "text/plain": [
       "<matplotlib.figure.Figure at 0x20032813cf8>"
      ]
     },
     "metadata": {},
     "output_type": "display_data"
    }
   ],
   "source": [
    "# summarize history for accuracy\n",
    "plt.plot(history.history['acc'])\n",
    "plt.plot(history.history['val_acc'])\n",
    "plt.title('model accuracy')\n",
    "plt.ylabel('accuracy')\n",
    "plt.xlabel('epoch')\n",
    "plt.legend(['train', 'test'], loc='upper left')\n",
    "plt.show()\n",
    "\n",
    "# summarize history for loss\n",
    "plt.plot(history.history['loss'])\n",
    "plt.plot(history.history['val_loss'])\n",
    "plt.title('model loss')\n",
    "plt.ylabel('loss')\n",
    "plt.xlabel('epoch')\n",
    "plt.legend(['train', 'test'], loc='upper left')\n",
    "plt.show()"
   ]
  },
  {
   "cell_type": "markdown",
   "metadata": {},
   "source": [
    "### The model is not getting significant improvement after around 10 epochs. We can try to tune the parameters to improve the accuacy of the model but I am not going to demonstrate it in this notebook. Anyway, there you go, a simple handwritten digit classification model using CNN."
   ]
  }
 ],
 "metadata": {
  "kernelspec": {
   "display_name": "Python 3",
   "language": "python",
   "name": "python3"
  },
  "language_info": {
   "codemirror_mode": {
    "name": "ipython",
    "version": 3
   },
   "file_extension": ".py",
   "mimetype": "text/x-python",
   "name": "python",
   "nbconvert_exporter": "python",
   "pygments_lexer": "ipython3",
   "version": "3.6.4"
  }
 },
 "nbformat": 4,
 "nbformat_minor": 2
}
